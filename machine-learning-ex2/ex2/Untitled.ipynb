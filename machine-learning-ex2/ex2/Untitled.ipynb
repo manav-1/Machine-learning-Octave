{
 "cells": [
  {
   "cell_type": "code",
   "execution_count": 3,
   "metadata": {},
   "outputs": [
    {
     "name": "stdout",
     "output_type": "stream",
     "text": [
      "Enter the area:1000\n",
      "Enter the cost:1200\n",
      "Do you want to continue?(y/n)y\n",
      "Enter the area:1000\n",
      "Enter the cost:1230\n",
      "Do you want to continue?(y/n)y\n",
      "Enter the area:1200\n",
      "Enter the cost:1260\n",
      "Do you want to continue?(y/n)y\n",
      "Enter the area:1400\n",
      "Enter the cost:1280\n",
      "Do you want to continue?(y/n)n\n"
     ]
    },
    {
     "ename": "OverflowError",
     "evalue": "(34, 'Result too large')",
     "output_type": "error",
     "traceback": [
      "\u001b[1;31m---------------------------------------------------------------------------\u001b[0m",
      "\u001b[1;31mOverflowError\u001b[0m                             Traceback (most recent call last)",
      "\u001b[1;32m<ipython-input-3-b638c652a875>\u001b[0m in \u001b[0;36m<module>\u001b[1;34m\u001b[0m\n\u001b[0;32m     47\u001b[0m     \u001b[0mtt0\u001b[0m \u001b[1;33m=\u001b[0m \u001b[0mtemp1\u001b[0m\u001b[1;33m\u001b[0m\u001b[1;33m\u001b[0m\u001b[0m\n\u001b[0;32m     48\u001b[0m     \u001b[0mtt1\u001b[0m \u001b[1;33m=\u001b[0m \u001b[0mtemp2\u001b[0m\u001b[1;33m\u001b[0m\u001b[1;33m\u001b[0m\u001b[0m\n\u001b[1;32m---> 49\u001b[1;33m     \u001b[0mj1\u001b[0m \u001b[1;33m=\u001b[0m \u001b[0mj\u001b[0m\u001b[1;33m(\u001b[0m\u001b[0mtt0\u001b[0m\u001b[1;33m,\u001b[0m \u001b[0mtt1\u001b[0m\u001b[1;33m,\u001b[0m \u001b[0mHouse_prices\u001b[0m\u001b[1;33m,\u001b[0m \u001b[0mn\u001b[0m\u001b[1;33m)\u001b[0m\u001b[1;33m\u001b[0m\u001b[1;33m\u001b[0m\u001b[0m\n\u001b[0m\u001b[0;32m     50\u001b[0m     \u001b[1;32mif\u001b[0m \u001b[0mabs\u001b[0m\u001b[1;33m(\u001b[0m\u001b[0mj1\u001b[0m\u001b[1;33m-\u001b[0m\u001b[0mj0\u001b[0m\u001b[1;33m)\u001b[0m \u001b[1;33m<\u001b[0m \u001b[1;36m0.000001\u001b[0m\u001b[1;33m:\u001b[0m\u001b[1;33m\u001b[0m\u001b[1;33m\u001b[0m\u001b[0m\n\u001b[0;32m     51\u001b[0m         \u001b[1;32mbreak\u001b[0m\u001b[1;33m\u001b[0m\u001b[1;33m\u001b[0m\u001b[0m\n",
      "\u001b[1;32m<ipython-input-3-b638c652a875>\u001b[0m in \u001b[0;36mj\u001b[1;34m(t0, t1, list0, m)\u001b[0m\n\u001b[0;32m     22\u001b[0m     \u001b[0mval\u001b[0m \u001b[1;33m=\u001b[0m \u001b[1;36m0\u001b[0m\u001b[1;33m\u001b[0m\u001b[1;33m\u001b[0m\u001b[0m\n\u001b[0;32m     23\u001b[0m     \u001b[1;32mfor\u001b[0m \u001b[0mi\u001b[0m \u001b[1;32min\u001b[0m \u001b[0mlist0\u001b[0m\u001b[1;33m:\u001b[0m\u001b[1;33m\u001b[0m\u001b[1;33m\u001b[0m\u001b[0m\n\u001b[1;32m---> 24\u001b[1;33m         \u001b[0mval\u001b[0m \u001b[1;33m+=\u001b[0m \u001b[1;33m(\u001b[0m\u001b[0mf\u001b[0m\u001b[1;33m(\u001b[0m\u001b[0mt0\u001b[0m\u001b[1;33m,\u001b[0m \u001b[0mt1\u001b[0m\u001b[1;33m,\u001b[0m \u001b[0mi\u001b[0m\u001b[1;33m[\u001b[0m\u001b[1;36m0\u001b[0m\u001b[1;33m]\u001b[0m\u001b[1;33m)\u001b[0m\u001b[1;33m-\u001b[0m\u001b[0mi\u001b[0m\u001b[1;33m[\u001b[0m\u001b[1;36m1\u001b[0m\u001b[1;33m]\u001b[0m\u001b[1;33m)\u001b[0m\u001b[1;33m**\u001b[0m\u001b[1;36m2\u001b[0m\u001b[1;33m\u001b[0m\u001b[1;33m\u001b[0m\u001b[0m\n\u001b[0m\u001b[0;32m     25\u001b[0m     \u001b[0mval\u001b[0m \u001b[1;33m=\u001b[0m \u001b[0mval\u001b[0m\u001b[1;33m/\u001b[0m\u001b[1;33m(\u001b[0m\u001b[1;36m2\u001b[0m\u001b[1;33m*\u001b[0m\u001b[0mm\u001b[0m\u001b[1;33m)\u001b[0m\u001b[1;33m\u001b[0m\u001b[1;33m\u001b[0m\u001b[0m\n\u001b[0;32m     26\u001b[0m     \u001b[1;32mreturn\u001b[0m \u001b[0mval\u001b[0m\u001b[1;33m\u001b[0m\u001b[1;33m\u001b[0m\u001b[0m\n",
      "\u001b[1;31mOverflowError\u001b[0m: (34, 'Result too large')"
     ]
    }
   ],
   "source": [
    "def f(t0, t1, x):\n",
    "    return t0+t1*x\n",
    "\n",
    "\n",
    "def sum0(t0, t1, list0, m):\n",
    "    val = 0\n",
    "    for i in list0:\n",
    "        val += (f(t0, t1, i[0]) - i[1])\n",
    "    val = val / m\n",
    "    return val\n",
    "\n",
    "\n",
    "def sum1(t0, t1, list0, m):\n",
    "    val = 0\n",
    "    for i in list0:\n",
    "        val += (f(t0, t1, i[0]) - i[1])*i[0]\n",
    "    val = val / m\n",
    "    return val\n",
    "\n",
    "\n",
    "def j(t0, t1, list0, m):\n",
    "    val = 0\n",
    "    for i in list0:\n",
    "        val += (f(t0, t1, i[0])-i[1])**2\n",
    "    val = val/(2*m)\n",
    "    return val\n",
    "\n",
    "\n",
    "House_prices = []\n",
    "n = 0\n",
    "while True:\n",
    "    n += 1\n",
    "    area = float(input(\"Enter the area:\"))\n",
    "    cost = float(input(\"Enter the cost:\"))\n",
    "    df = [area, cost]\n",
    "    House_prices.append(df)\n",
    "    ans = input(\"Do you want to continue?(y/n)\")\n",
    "    if ans == \"n\":\n",
    "        break\n",
    "tt0 = 1\n",
    "tt1 = 1\n",
    "alpha = 0.01\n",
    "while True:\n",
    "    j0 = j(tt0, tt1, House_prices, n)\n",
    "    temp1 = tt0 - alpha*sum0(tt0, tt1, House_prices, n)\n",
    "    temp2 = tt1 - alpha*sum1(tt0, tt1, House_prices, n)\n",
    "    tt0 = temp1\n",
    "    tt1 = temp2\n",
    "    j1 = j(tt0, tt1, House_prices, n)\n",
    "    if abs(j1-j0) < 0.000001:\n",
    "        break\n",
    "while True:\n",
    "    area = float(input(\"Enter area:\"))\n",
    "    print(f(tt0, tt1, area))\n",
    "    ans = input(\"Enter n to stop:\")\n",
    "    if ans == \"n\":\n",
    "        break"
   ]
  },
  {
   "cell_type": "code",
   "execution_count": null,
   "metadata": {},
   "outputs": [],
   "source": []
  }
 ],
 "metadata": {
  "kernelspec": {
   "display_name": "Python 3",
   "language": "python",
   "name": "python3"
  },
  "language_info": {
   "codemirror_mode": {
    "name": "ipython",
    "version": 3
   },
   "file_extension": ".py",
   "mimetype": "text/x-python",
   "name": "python",
   "nbconvert_exporter": "python",
   "pygments_lexer": "ipython3",
   "version": "3.7.4"
  }
 },
 "nbformat": 4,
 "nbformat_minor": 2
}
